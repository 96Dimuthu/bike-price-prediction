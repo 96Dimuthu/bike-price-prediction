{
  "nbformat": 4,
  "nbformat_minor": 0,
  "metadata": {
    "colab": {
      "provenance": []
    },
    "kernelspec": {
      "name": "python3",
      "display_name": "Python 3"
    },
    "language_info": {
      "name": "python"
    }
  },
  "cells": [
    {
      "cell_type": "markdown",
      "source": [
        "Importing the Dependencies "
      ],
      "metadata": {
        "id": "AtConx9Zchkv"
      }
    },
    {
      "cell_type": "code",
      "source": [
        "import pandas as pd\n",
        "import numpy as np\n",
        "import matplotlib.pyplot as plt\n",
        "import seaborn as sns\n",
        "import sklearn.datasets\n",
        "from sklearn.model_selection import train_test_split\n",
        "from sklearn.ensemble import RandomForestRegressor\n",
        "from sklearn import metrics  "
      ],
      "metadata": {
        "id": "iluGMmmPMlJa"
      },
      "execution_count": 1,
      "outputs": []
    },
    {
      "cell_type": "markdown",
      "source": [
        "Importing the Bike Price Dataset"
      ],
      "metadata": {
        "id": "hGN5k5SGmHhY"
      }
    },
    {
      "cell_type": "code",
      "source": [
        "bike = pd.read_csv('/content/Bike Data.csv')"
      ],
      "metadata": {
        "id": "bzBAyqZPmFeh"
      },
      "execution_count": 2,
      "outputs": []
    },
    {
      "cell_type": "code",
      "source": [
        "bike.info()"
      ],
      "metadata": {
        "id": "BbgHIMWQ5oKM",
        "colab": {
          "base_uri": "https://localhost:8080/"
        },
        "outputId": "c4f34a46-9384-40b0-f17e-66e245ac1b60"
      },
      "execution_count": 3,
      "outputs": [
        {
          "output_type": "stream",
          "name": "stdout",
          "text": [
            "<class 'pandas.core.frame.DataFrame'>\n",
            "RangeIndex: 8295 entries, 0 to 8294\n",
            "Data columns (total 10 columns):\n",
            " #   Column           Non-Null Count  Dtype  \n",
            "---  ------           --------------  -----  \n",
            " 0   Brand            8295 non-null   object \n",
            " 1   Price            8295 non-null   int64  \n",
            " 2   Year             8295 non-null   int64  \n",
            " 3   Transmission     8295 non-null   object \n",
            " 4   Capacity         8295 non-null   float64\n",
            " 5   Mileage          8295 non-null   int64  \n",
            " 6   Published_Date   8295 non-null   object \n",
            " 7   USD_Rate         8295 non-null   float64\n",
            " 8   Fuel_Price       8295 non-null   int64  \n",
            " 9   Crude_Oil_Price  8295 non-null   float64\n",
            "dtypes: float64(3), int64(4), object(3)\n",
            "memory usage: 648.2+ KB\n"
          ]
        }
      ]
    },
    {
      "cell_type": "code",
      "source": [
        "bike['Brand'].value_counts()"
      ],
      "metadata": {
        "id": "T7viwO7aAnIl",
        "colab": {
          "base_uri": "https://localhost:8080/"
        },
        "outputId": "4581f803-912f-42b4-adfc-88d92e6c789a"
      },
      "execution_count": 4,
      "outputs": [
        {
          "output_type": "execute_result",
          "data": {
            "text/plain": [
              "Honda Dio                 1402\n",
              "Bajaj CT-100               470\n",
              "Bajaj Pulsar 150           380\n",
              "Hero Pleasure              326\n",
              "TVS Wego                   285\n",
              "                          ... \n",
              "Honda CD 125 BENLY           1\n",
              "Honda DIO Dx                 1\n",
              "Hero Maestro EDGE            1\n",
              "Bajaj pulsar 135             1\n",
              "TVS NTORQ Race Edition       1\n",
              "Name: Brand, Length: 169, dtype: int64"
            ]
          },
          "metadata": {},
          "execution_count": 4
        }
      ]
    },
    {
      "cell_type": "code",
      "source": [
        "bike['Transmission'].value_counts()"
      ],
      "metadata": {
        "id": "hjFKEXnLBWgQ",
        "colab": {
          "base_uri": "https://localhost:8080/"
        },
        "outputId": "ae100af0-8ba5-45ce-f153-e12a5cd213c0"
      },
      "execution_count": 5,
      "outputs": [
        {
          "output_type": "execute_result",
          "data": {
            "text/plain": [
              "Automatic     6618\n",
              "Automatic      988\n",
              "Manual         689\n",
              "Name: Transmission, dtype: int64"
            ]
          },
          "metadata": {},
          "execution_count": 5
        }
      ]
    },
    {
      "cell_type": "code",
      "source": [
        "bike.drop_duplicates()"
      ],
      "metadata": {
        "id": "zZ028a1K7Tzh",
        "colab": {
          "base_uri": "https://localhost:8080/",
          "height": 424
        },
        "outputId": "310b960e-12ab-4ff5-ba0c-d52d78f132d9"
      },
      "execution_count": 6,
      "outputs": [
        {
          "output_type": "execute_result",
          "data": {
            "text/plain": [
              "                    Brand   Price  Year Transmission  Capacity  Mileage  \\\n",
              "0            Bajaj CT-100  160000  2010       Manual     100.0    47000   \n",
              "1            Bajaj CT-100  160000  2012       Manual     100.0    60000   \n",
              "2            Bajaj CT-100  160000  2012       Manual     100.0    45000   \n",
              "3            Bajaj CT-100  160000  2009       Manual     100.0   109000   \n",
              "4            Bajaj CT-100  160000  2012       Manual     100.0    21000   \n",
              "...                   ...     ...   ...          ...       ...      ...   \n",
              "8284  Yamaha Fz Version 2  230000  2018   Automatic      150.0    50500   \n",
              "8285  Yamaha Fz Version 2  695000  2017   Automatic      150.0    30000   \n",
              "8286  Yamaha Fz Version 2  775000  2019   Automatic      150.0    23450   \n",
              "8287  Yamaha Fz Version 2  640000  2017   Automatic      150.0    51500   \n",
              "8292  Yamaha Fz Version 2  660000  2019   Automatic      150.0    21456   \n",
              "\n",
              "     Published_Date  USD_Rate  Fuel_Price  Crude_Oil_Price  \n",
              "0         11/4/2021    201.49         157       15403.9100  \n",
              "1         11/3/2021    201.45         157       15400.8500  \n",
              "2         11/1/2021    201.98         157       15441.3700  \n",
              "3        10/22/2021    201.39         157       15811.1300  \n",
              "4        10/20/2021    200.54         157       15744.4000  \n",
              "...             ...       ...         ...              ...  \n",
              "8284      3/21/2022    280.03         254       29982.8121  \n",
              "8285      2/18/2022    202.51         177       18106.4191  \n",
              "8286       1/5/2022    202.06         177       16231.4798  \n",
              "8287      1/10/2022    202.84         177       16294.1372  \n",
              "8292      6/14/2022    349.20         420       39728.4840  \n",
              "\n",
              "[8242 rows x 10 columns]"
            ],
            "text/html": [
              "\n",
              "  <div id=\"df-714a9d37-2bac-4d36-9275-951d3bcc64eb\">\n",
              "    <div class=\"colab-df-container\">\n",
              "      <div>\n",
              "<style scoped>\n",
              "    .dataframe tbody tr th:only-of-type {\n",
              "        vertical-align: middle;\n",
              "    }\n",
              "\n",
              "    .dataframe tbody tr th {\n",
              "        vertical-align: top;\n",
              "    }\n",
              "\n",
              "    .dataframe thead th {\n",
              "        text-align: right;\n",
              "    }\n",
              "</style>\n",
              "<table border=\"1\" class=\"dataframe\">\n",
              "  <thead>\n",
              "    <tr style=\"text-align: right;\">\n",
              "      <th></th>\n",
              "      <th>Brand</th>\n",
              "      <th>Price</th>\n",
              "      <th>Year</th>\n",
              "      <th>Transmission</th>\n",
              "      <th>Capacity</th>\n",
              "      <th>Mileage</th>\n",
              "      <th>Published_Date</th>\n",
              "      <th>USD_Rate</th>\n",
              "      <th>Fuel_Price</th>\n",
              "      <th>Crude_Oil_Price</th>\n",
              "    </tr>\n",
              "  </thead>\n",
              "  <tbody>\n",
              "    <tr>\n",
              "      <th>0</th>\n",
              "      <td>Bajaj CT-100</td>\n",
              "      <td>160000</td>\n",
              "      <td>2010</td>\n",
              "      <td>Manual</td>\n",
              "      <td>100.0</td>\n",
              "      <td>47000</td>\n",
              "      <td>11/4/2021</td>\n",
              "      <td>201.49</td>\n",
              "      <td>157</td>\n",
              "      <td>15403.9100</td>\n",
              "    </tr>\n",
              "    <tr>\n",
              "      <th>1</th>\n",
              "      <td>Bajaj CT-100</td>\n",
              "      <td>160000</td>\n",
              "      <td>2012</td>\n",
              "      <td>Manual</td>\n",
              "      <td>100.0</td>\n",
              "      <td>60000</td>\n",
              "      <td>11/3/2021</td>\n",
              "      <td>201.45</td>\n",
              "      <td>157</td>\n",
              "      <td>15400.8500</td>\n",
              "    </tr>\n",
              "    <tr>\n",
              "      <th>2</th>\n",
              "      <td>Bajaj CT-100</td>\n",
              "      <td>160000</td>\n",
              "      <td>2012</td>\n",
              "      <td>Manual</td>\n",
              "      <td>100.0</td>\n",
              "      <td>45000</td>\n",
              "      <td>11/1/2021</td>\n",
              "      <td>201.98</td>\n",
              "      <td>157</td>\n",
              "      <td>15441.3700</td>\n",
              "    </tr>\n",
              "    <tr>\n",
              "      <th>3</th>\n",
              "      <td>Bajaj CT-100</td>\n",
              "      <td>160000</td>\n",
              "      <td>2009</td>\n",
              "      <td>Manual</td>\n",
              "      <td>100.0</td>\n",
              "      <td>109000</td>\n",
              "      <td>10/22/2021</td>\n",
              "      <td>201.39</td>\n",
              "      <td>157</td>\n",
              "      <td>15811.1300</td>\n",
              "    </tr>\n",
              "    <tr>\n",
              "      <th>4</th>\n",
              "      <td>Bajaj CT-100</td>\n",
              "      <td>160000</td>\n",
              "      <td>2012</td>\n",
              "      <td>Manual</td>\n",
              "      <td>100.0</td>\n",
              "      <td>21000</td>\n",
              "      <td>10/20/2021</td>\n",
              "      <td>200.54</td>\n",
              "      <td>157</td>\n",
              "      <td>15744.4000</td>\n",
              "    </tr>\n",
              "    <tr>\n",
              "      <th>...</th>\n",
              "      <td>...</td>\n",
              "      <td>...</td>\n",
              "      <td>...</td>\n",
              "      <td>...</td>\n",
              "      <td>...</td>\n",
              "      <td>...</td>\n",
              "      <td>...</td>\n",
              "      <td>...</td>\n",
              "      <td>...</td>\n",
              "      <td>...</td>\n",
              "    </tr>\n",
              "    <tr>\n",
              "      <th>8284</th>\n",
              "      <td>Yamaha Fz Version 2</td>\n",
              "      <td>230000</td>\n",
              "      <td>2018</td>\n",
              "      <td>Automatic</td>\n",
              "      <td>150.0</td>\n",
              "      <td>50500</td>\n",
              "      <td>3/21/2022</td>\n",
              "      <td>280.03</td>\n",
              "      <td>254</td>\n",
              "      <td>29982.8121</td>\n",
              "    </tr>\n",
              "    <tr>\n",
              "      <th>8285</th>\n",
              "      <td>Yamaha Fz Version 2</td>\n",
              "      <td>695000</td>\n",
              "      <td>2017</td>\n",
              "      <td>Automatic</td>\n",
              "      <td>150.0</td>\n",
              "      <td>30000</td>\n",
              "      <td>2/18/2022</td>\n",
              "      <td>202.51</td>\n",
              "      <td>177</td>\n",
              "      <td>18106.4191</td>\n",
              "    </tr>\n",
              "    <tr>\n",
              "      <th>8286</th>\n",
              "      <td>Yamaha Fz Version 2</td>\n",
              "      <td>775000</td>\n",
              "      <td>2019</td>\n",
              "      <td>Automatic</td>\n",
              "      <td>150.0</td>\n",
              "      <td>23450</td>\n",
              "      <td>1/5/2022</td>\n",
              "      <td>202.06</td>\n",
              "      <td>177</td>\n",
              "      <td>16231.4798</td>\n",
              "    </tr>\n",
              "    <tr>\n",
              "      <th>8287</th>\n",
              "      <td>Yamaha Fz Version 2</td>\n",
              "      <td>640000</td>\n",
              "      <td>2017</td>\n",
              "      <td>Automatic</td>\n",
              "      <td>150.0</td>\n",
              "      <td>51500</td>\n",
              "      <td>1/10/2022</td>\n",
              "      <td>202.84</td>\n",
              "      <td>177</td>\n",
              "      <td>16294.1372</td>\n",
              "    </tr>\n",
              "    <tr>\n",
              "      <th>8292</th>\n",
              "      <td>Yamaha Fz Version 2</td>\n",
              "      <td>660000</td>\n",
              "      <td>2019</td>\n",
              "      <td>Automatic</td>\n",
              "      <td>150.0</td>\n",
              "      <td>21456</td>\n",
              "      <td>6/14/2022</td>\n",
              "      <td>349.20</td>\n",
              "      <td>420</td>\n",
              "      <td>39728.4840</td>\n",
              "    </tr>\n",
              "  </tbody>\n",
              "</table>\n",
              "<p>8242 rows × 10 columns</p>\n",
              "</div>\n",
              "      <button class=\"colab-df-convert\" onclick=\"convertToInteractive('df-714a9d37-2bac-4d36-9275-951d3bcc64eb')\"\n",
              "              title=\"Convert this dataframe to an interactive table.\"\n",
              "              style=\"display:none;\">\n",
              "        \n",
              "  <svg xmlns=\"http://www.w3.org/2000/svg\" height=\"24px\"viewBox=\"0 0 24 24\"\n",
              "       width=\"24px\">\n",
              "    <path d=\"M0 0h24v24H0V0z\" fill=\"none\"/>\n",
              "    <path d=\"M18.56 5.44l.94 2.06.94-2.06 2.06-.94-2.06-.94-.94-2.06-.94 2.06-2.06.94zm-11 1L8.5 8.5l.94-2.06 2.06-.94-2.06-.94L8.5 2.5l-.94 2.06-2.06.94zm10 10l.94 2.06.94-2.06 2.06-.94-2.06-.94-.94-2.06-.94 2.06-2.06.94z\"/><path d=\"M17.41 7.96l-1.37-1.37c-.4-.4-.92-.59-1.43-.59-.52 0-1.04.2-1.43.59L10.3 9.45l-7.72 7.72c-.78.78-.78 2.05 0 2.83L4 21.41c.39.39.9.59 1.41.59.51 0 1.02-.2 1.41-.59l7.78-7.78 2.81-2.81c.8-.78.8-2.07 0-2.86zM5.41 20L4 18.59l7.72-7.72 1.47 1.35L5.41 20z\"/>\n",
              "  </svg>\n",
              "      </button>\n",
              "      \n",
              "  <style>\n",
              "    .colab-df-container {\n",
              "      display:flex;\n",
              "      flex-wrap:wrap;\n",
              "      gap: 12px;\n",
              "    }\n",
              "\n",
              "    .colab-df-convert {\n",
              "      background-color: #E8F0FE;\n",
              "      border: none;\n",
              "      border-radius: 50%;\n",
              "      cursor: pointer;\n",
              "      display: none;\n",
              "      fill: #1967D2;\n",
              "      height: 32px;\n",
              "      padding: 0 0 0 0;\n",
              "      width: 32px;\n",
              "    }\n",
              "\n",
              "    .colab-df-convert:hover {\n",
              "      background-color: #E2EBFA;\n",
              "      box-shadow: 0px 1px 2px rgba(60, 64, 67, 0.3), 0px 1px 3px 1px rgba(60, 64, 67, 0.15);\n",
              "      fill: #174EA6;\n",
              "    }\n",
              "\n",
              "    [theme=dark] .colab-df-convert {\n",
              "      background-color: #3B4455;\n",
              "      fill: #D2E3FC;\n",
              "    }\n",
              "\n",
              "    [theme=dark] .colab-df-convert:hover {\n",
              "      background-color: #434B5C;\n",
              "      box-shadow: 0px 1px 3px 1px rgba(0, 0, 0, 0.15);\n",
              "      filter: drop-shadow(0px 1px 2px rgba(0, 0, 0, 0.3));\n",
              "      fill: #FFFFFF;\n",
              "    }\n",
              "  </style>\n",
              "\n",
              "      <script>\n",
              "        const buttonEl =\n",
              "          document.querySelector('#df-714a9d37-2bac-4d36-9275-951d3bcc64eb button.colab-df-convert');\n",
              "        buttonEl.style.display =\n",
              "          google.colab.kernel.accessAllowed ? 'block' : 'none';\n",
              "\n",
              "        async function convertToInteractive(key) {\n",
              "          const element = document.querySelector('#df-714a9d37-2bac-4d36-9275-951d3bcc64eb');\n",
              "          const dataTable =\n",
              "            await google.colab.kernel.invokeFunction('convertToInteractive',\n",
              "                                                     [key], {});\n",
              "          if (!dataTable) return;\n",
              "\n",
              "          const docLinkHtml = 'Like what you see? Visit the ' +\n",
              "            '<a target=\"_blank\" href=https://colab.research.google.com/notebooks/data_table.ipynb>data table notebook</a>'\n",
              "            + ' to learn more about interactive tables.';\n",
              "          element.innerHTML = '';\n",
              "          dataTable['output_type'] = 'display_data';\n",
              "          await google.colab.output.renderOutput(dataTable, element);\n",
              "          const docLink = document.createElement('div');\n",
              "          docLink.innerHTML = docLinkHtml;\n",
              "          element.appendChild(docLink);\n",
              "        }\n",
              "      </script>\n",
              "    </div>\n",
              "  </div>\n",
              "  "
            ]
          },
          "metadata": {},
          "execution_count": 6
        }
      ]
    },
    {
      "cell_type": "code",
      "source": [
        "bike"
      ],
      "metadata": {
        "id": "cmMkNqTZ7woG",
        "colab": {
          "base_uri": "https://localhost:8080/",
          "height": 424
        },
        "outputId": "eb3dd462-ad8f-48c4-b5a8-ec4f31005213"
      },
      "execution_count": 7,
      "outputs": [
        {
          "output_type": "execute_result",
          "data": {
            "text/plain": [
              "                    Brand   Price  Year Transmission  Capacity  Mileage  \\\n",
              "0            Bajaj CT-100  160000  2010       Manual     100.0    47000   \n",
              "1            Bajaj CT-100  160000  2012       Manual     100.0    60000   \n",
              "2            Bajaj CT-100  160000  2012       Manual     100.0    45000   \n",
              "3            Bajaj CT-100  160000  2009       Manual     100.0   109000   \n",
              "4            Bajaj CT-100  160000  2012       Manual     100.0    21000   \n",
              "...                   ...     ...   ...          ...       ...      ...   \n",
              "8290  Yamaha Fz Version 2  770000  2019   Automatic      150.0    24000   \n",
              "8291  Yamaha Fz Version 2  775000  2019   Automatic      150.0    30100   \n",
              "8292  Yamaha Fz Version 2  660000  2019   Automatic      150.0    21456   \n",
              "8293  Yamaha Fz Version 2  710000  2018   Automatic      150.0    30159   \n",
              "8294  Yamaha Fz Version 2  695000  2018   Automatic      150.0    31000   \n",
              "\n",
              "     Published_Date  USD_Rate  Fuel_Price  Crude_Oil_Price  \n",
              "0         11/4/2021    201.49         157       15403.9100  \n",
              "1         11/3/2021    201.45         157       15400.8500  \n",
              "2         11/1/2021    201.98         157       15441.3700  \n",
              "3        10/22/2021    201.39         157       15811.1300  \n",
              "4        10/20/2021    200.54         157       15744.4000  \n",
              "...             ...       ...         ...              ...  \n",
              "8290       1/5/2022    202.06         177       16231.4798  \n",
              "8291      1/10/2022    202.84         177       16294.1372  \n",
              "8292      6/14/2022    349.20         420       39728.4840  \n",
              "8293      6/24/2022    360.14         420       40973.1278  \n",
              "8294       5/7/2022    354.96         338       38438.6184  \n",
              "\n",
              "[8295 rows x 10 columns]"
            ],
            "text/html": [
              "\n",
              "  <div id=\"df-ea9bf743-f89b-469f-9708-dc67e3d48a38\">\n",
              "    <div class=\"colab-df-container\">\n",
              "      <div>\n",
              "<style scoped>\n",
              "    .dataframe tbody tr th:only-of-type {\n",
              "        vertical-align: middle;\n",
              "    }\n",
              "\n",
              "    .dataframe tbody tr th {\n",
              "        vertical-align: top;\n",
              "    }\n",
              "\n",
              "    .dataframe thead th {\n",
              "        text-align: right;\n",
              "    }\n",
              "</style>\n",
              "<table border=\"1\" class=\"dataframe\">\n",
              "  <thead>\n",
              "    <tr style=\"text-align: right;\">\n",
              "      <th></th>\n",
              "      <th>Brand</th>\n",
              "      <th>Price</th>\n",
              "      <th>Year</th>\n",
              "      <th>Transmission</th>\n",
              "      <th>Capacity</th>\n",
              "      <th>Mileage</th>\n",
              "      <th>Published_Date</th>\n",
              "      <th>USD_Rate</th>\n",
              "      <th>Fuel_Price</th>\n",
              "      <th>Crude_Oil_Price</th>\n",
              "    </tr>\n",
              "  </thead>\n",
              "  <tbody>\n",
              "    <tr>\n",
              "      <th>0</th>\n",
              "      <td>Bajaj CT-100</td>\n",
              "      <td>160000</td>\n",
              "      <td>2010</td>\n",
              "      <td>Manual</td>\n",
              "      <td>100.0</td>\n",
              "      <td>47000</td>\n",
              "      <td>11/4/2021</td>\n",
              "      <td>201.49</td>\n",
              "      <td>157</td>\n",
              "      <td>15403.9100</td>\n",
              "    </tr>\n",
              "    <tr>\n",
              "      <th>1</th>\n",
              "      <td>Bajaj CT-100</td>\n",
              "      <td>160000</td>\n",
              "      <td>2012</td>\n",
              "      <td>Manual</td>\n",
              "      <td>100.0</td>\n",
              "      <td>60000</td>\n",
              "      <td>11/3/2021</td>\n",
              "      <td>201.45</td>\n",
              "      <td>157</td>\n",
              "      <td>15400.8500</td>\n",
              "    </tr>\n",
              "    <tr>\n",
              "      <th>2</th>\n",
              "      <td>Bajaj CT-100</td>\n",
              "      <td>160000</td>\n",
              "      <td>2012</td>\n",
              "      <td>Manual</td>\n",
              "      <td>100.0</td>\n",
              "      <td>45000</td>\n",
              "      <td>11/1/2021</td>\n",
              "      <td>201.98</td>\n",
              "      <td>157</td>\n",
              "      <td>15441.3700</td>\n",
              "    </tr>\n",
              "    <tr>\n",
              "      <th>3</th>\n",
              "      <td>Bajaj CT-100</td>\n",
              "      <td>160000</td>\n",
              "      <td>2009</td>\n",
              "      <td>Manual</td>\n",
              "      <td>100.0</td>\n",
              "      <td>109000</td>\n",
              "      <td>10/22/2021</td>\n",
              "      <td>201.39</td>\n",
              "      <td>157</td>\n",
              "      <td>15811.1300</td>\n",
              "    </tr>\n",
              "    <tr>\n",
              "      <th>4</th>\n",
              "      <td>Bajaj CT-100</td>\n",
              "      <td>160000</td>\n",
              "      <td>2012</td>\n",
              "      <td>Manual</td>\n",
              "      <td>100.0</td>\n",
              "      <td>21000</td>\n",
              "      <td>10/20/2021</td>\n",
              "      <td>200.54</td>\n",
              "      <td>157</td>\n",
              "      <td>15744.4000</td>\n",
              "    </tr>\n",
              "    <tr>\n",
              "      <th>...</th>\n",
              "      <td>...</td>\n",
              "      <td>...</td>\n",
              "      <td>...</td>\n",
              "      <td>...</td>\n",
              "      <td>...</td>\n",
              "      <td>...</td>\n",
              "      <td>...</td>\n",
              "      <td>...</td>\n",
              "      <td>...</td>\n",
              "      <td>...</td>\n",
              "    </tr>\n",
              "    <tr>\n",
              "      <th>8290</th>\n",
              "      <td>Yamaha Fz Version 2</td>\n",
              "      <td>770000</td>\n",
              "      <td>2019</td>\n",
              "      <td>Automatic</td>\n",
              "      <td>150.0</td>\n",
              "      <td>24000</td>\n",
              "      <td>1/5/2022</td>\n",
              "      <td>202.06</td>\n",
              "      <td>177</td>\n",
              "      <td>16231.4798</td>\n",
              "    </tr>\n",
              "    <tr>\n",
              "      <th>8291</th>\n",
              "      <td>Yamaha Fz Version 2</td>\n",
              "      <td>775000</td>\n",
              "      <td>2019</td>\n",
              "      <td>Automatic</td>\n",
              "      <td>150.0</td>\n",
              "      <td>30100</td>\n",
              "      <td>1/10/2022</td>\n",
              "      <td>202.84</td>\n",
              "      <td>177</td>\n",
              "      <td>16294.1372</td>\n",
              "    </tr>\n",
              "    <tr>\n",
              "      <th>8292</th>\n",
              "      <td>Yamaha Fz Version 2</td>\n",
              "      <td>660000</td>\n",
              "      <td>2019</td>\n",
              "      <td>Automatic</td>\n",
              "      <td>150.0</td>\n",
              "      <td>21456</td>\n",
              "      <td>6/14/2022</td>\n",
              "      <td>349.20</td>\n",
              "      <td>420</td>\n",
              "      <td>39728.4840</td>\n",
              "    </tr>\n",
              "    <tr>\n",
              "      <th>8293</th>\n",
              "      <td>Yamaha Fz Version 2</td>\n",
              "      <td>710000</td>\n",
              "      <td>2018</td>\n",
              "      <td>Automatic</td>\n",
              "      <td>150.0</td>\n",
              "      <td>30159</td>\n",
              "      <td>6/24/2022</td>\n",
              "      <td>360.14</td>\n",
              "      <td>420</td>\n",
              "      <td>40973.1278</td>\n",
              "    </tr>\n",
              "    <tr>\n",
              "      <th>8294</th>\n",
              "      <td>Yamaha Fz Version 2</td>\n",
              "      <td>695000</td>\n",
              "      <td>2018</td>\n",
              "      <td>Automatic</td>\n",
              "      <td>150.0</td>\n",
              "      <td>31000</td>\n",
              "      <td>5/7/2022</td>\n",
              "      <td>354.96</td>\n",
              "      <td>338</td>\n",
              "      <td>38438.6184</td>\n",
              "    </tr>\n",
              "  </tbody>\n",
              "</table>\n",
              "<p>8295 rows × 10 columns</p>\n",
              "</div>\n",
              "      <button class=\"colab-df-convert\" onclick=\"convertToInteractive('df-ea9bf743-f89b-469f-9708-dc67e3d48a38')\"\n",
              "              title=\"Convert this dataframe to an interactive table.\"\n",
              "              style=\"display:none;\">\n",
              "        \n",
              "  <svg xmlns=\"http://www.w3.org/2000/svg\" height=\"24px\"viewBox=\"0 0 24 24\"\n",
              "       width=\"24px\">\n",
              "    <path d=\"M0 0h24v24H0V0z\" fill=\"none\"/>\n",
              "    <path d=\"M18.56 5.44l.94 2.06.94-2.06 2.06-.94-2.06-.94-.94-2.06-.94 2.06-2.06.94zm-11 1L8.5 8.5l.94-2.06 2.06-.94-2.06-.94L8.5 2.5l-.94 2.06-2.06.94zm10 10l.94 2.06.94-2.06 2.06-.94-2.06-.94-.94-2.06-.94 2.06-2.06.94z\"/><path d=\"M17.41 7.96l-1.37-1.37c-.4-.4-.92-.59-1.43-.59-.52 0-1.04.2-1.43.59L10.3 9.45l-7.72 7.72c-.78.78-.78 2.05 0 2.83L4 21.41c.39.39.9.59 1.41.59.51 0 1.02-.2 1.41-.59l7.78-7.78 2.81-2.81c.8-.78.8-2.07 0-2.86zM5.41 20L4 18.59l7.72-7.72 1.47 1.35L5.41 20z\"/>\n",
              "  </svg>\n",
              "      </button>\n",
              "      \n",
              "  <style>\n",
              "    .colab-df-container {\n",
              "      display:flex;\n",
              "      flex-wrap:wrap;\n",
              "      gap: 12px;\n",
              "    }\n",
              "\n",
              "    .colab-df-convert {\n",
              "      background-color: #E8F0FE;\n",
              "      border: none;\n",
              "      border-radius: 50%;\n",
              "      cursor: pointer;\n",
              "      display: none;\n",
              "      fill: #1967D2;\n",
              "      height: 32px;\n",
              "      padding: 0 0 0 0;\n",
              "      width: 32px;\n",
              "    }\n",
              "\n",
              "    .colab-df-convert:hover {\n",
              "      background-color: #E2EBFA;\n",
              "      box-shadow: 0px 1px 2px rgba(60, 64, 67, 0.3), 0px 1px 3px 1px rgba(60, 64, 67, 0.15);\n",
              "      fill: #174EA6;\n",
              "    }\n",
              "\n",
              "    [theme=dark] .colab-df-convert {\n",
              "      background-color: #3B4455;\n",
              "      fill: #D2E3FC;\n",
              "    }\n",
              "\n",
              "    [theme=dark] .colab-df-convert:hover {\n",
              "      background-color: #434B5C;\n",
              "      box-shadow: 0px 1px 3px 1px rgba(0, 0, 0, 0.15);\n",
              "      filter: drop-shadow(0px 1px 2px rgba(0, 0, 0, 0.3));\n",
              "      fill: #FFFFFF;\n",
              "    }\n",
              "  </style>\n",
              "\n",
              "      <script>\n",
              "        const buttonEl =\n",
              "          document.querySelector('#df-ea9bf743-f89b-469f-9708-dc67e3d48a38 button.colab-df-convert');\n",
              "        buttonEl.style.display =\n",
              "          google.colab.kernel.accessAllowed ? 'block' : 'none';\n",
              "\n",
              "        async function convertToInteractive(key) {\n",
              "          const element = document.querySelector('#df-ea9bf743-f89b-469f-9708-dc67e3d48a38');\n",
              "          const dataTable =\n",
              "            await google.colab.kernel.invokeFunction('convertToInteractive',\n",
              "                                                     [key], {});\n",
              "          if (!dataTable) return;\n",
              "\n",
              "          const docLinkHtml = 'Like what you see? Visit the ' +\n",
              "            '<a target=\"_blank\" href=https://colab.research.google.com/notebooks/data_table.ipynb>data table notebook</a>'\n",
              "            + ' to learn more about interactive tables.';\n",
              "          element.innerHTML = '';\n",
              "          dataTable['output_type'] = 'display_data';\n",
              "          await google.colab.output.renderOutput(dataTable, element);\n",
              "          const docLink = document.createElement('div');\n",
              "          docLink.innerHTML = docLinkHtml;\n",
              "          element.appendChild(docLink);\n",
              "        }\n",
              "      </script>\n",
              "    </div>\n",
              "  </div>\n",
              "  "
            ]
          },
          "metadata": {},
          "execution_count": 7
        }
      ]
    },
    {
      "cell_type": "code",
      "source": [
        "#convert Categories to numerical variable\n",
        "bike['Brand'] = pd.factorize(bike.Brand)[0]\n",
        "bike['Transmission'] = pd.factorize(bike.Transmission)[0]"
      ],
      "metadata": {
        "id": "_K_1haTO7zP2"
      },
      "execution_count": 8,
      "outputs": []
    },
    {
      "cell_type": "code",
      "source": [
        "bike['Brand'].value_counts()"
      ],
      "metadata": {
        "id": "zV-VSU9RCCqh",
        "colab": {
          "base_uri": "https://localhost:8080/"
        },
        "outputId": "74b9ec5b-2fba-41f8-f290-9ef36c28e844"
      },
      "execution_count": 9,
      "outputs": [
        {
          "output_type": "execute_result",
          "data": {
            "text/plain": [
              "76     1402\n",
              "0       470\n",
              "24      380\n",
              "50      326\n",
              "124     285\n",
              "       ... \n",
              "69        1\n",
              "80        1\n",
              "49        1\n",
              "20        1\n",
              "118       1\n",
              "Name: Brand, Length: 169, dtype: int64"
            ]
          },
          "metadata": {},
          "execution_count": 9
        }
      ]
    },
    {
      "cell_type": "code",
      "source": [
        "bike['Transmission'].value_counts()"
      ],
      "metadata": {
        "id": "dGvb2lvBCMtR",
        "colab": {
          "base_uri": "https://localhost:8080/"
        },
        "outputId": "64d6c342-2bc2-4de0-db84-1b6354553499"
      },
      "execution_count": 10,
      "outputs": [
        {
          "output_type": "execute_result",
          "data": {
            "text/plain": [
              "1    6618\n",
              "2     988\n",
              "0     689\n",
              "Name: Transmission, dtype: int64"
            ]
          },
          "metadata": {},
          "execution_count": 10
        }
      ]
    },
    {
      "cell_type": "code",
      "source": [
        "#check the number of rows and columns in the data frame\n",
        "bike.shape"
      ],
      "metadata": {
        "id": "4UMejII5vKgh",
        "colab": {
          "base_uri": "https://localhost:8080/"
        },
        "outputId": "6f2f0659-f42d-4cbd-cf54-a6bc63080c46"
      },
      "execution_count": 11,
      "outputs": [
        {
          "output_type": "execute_result",
          "data": {
            "text/plain": [
              "(8295, 10)"
            ]
          },
          "metadata": {},
          "execution_count": 11
        }
      ]
    },
    {
      "cell_type": "code",
      "source": [
        "#check for missing values\n",
        "bike.isnull().sum()"
      ],
      "metadata": {
        "id": "6Q3BB3igvoSY",
        "colab": {
          "base_uri": "https://localhost:8080/"
        },
        "outputId": "cd3a480e-c8b6-4cf4-fea2-5040b5e48fc4"
      },
      "execution_count": 12,
      "outputs": [
        {
          "output_type": "execute_result",
          "data": {
            "text/plain": [
              "Brand              0\n",
              "Price              0\n",
              "Year               0\n",
              "Transmission       0\n",
              "Capacity           0\n",
              "Mileage            0\n",
              "Published_Date     0\n",
              "USD_Rate           0\n",
              "Fuel_Price         0\n",
              "Crude_Oil_Price    0\n",
              "dtype: int64"
            ]
          },
          "metadata": {},
          "execution_count": 12
        }
      ]
    },
    {
      "cell_type": "code",
      "source": [
        "#statistical measures of the dataset\n",
        "bike.describe()"
      ],
      "metadata": {
        "id": "gtTg5BVTv8-Y",
        "colab": {
          "base_uri": "https://localhost:8080/",
          "height": 300
        },
        "outputId": "5dc27902-8828-4355-8ce1-661d6a0eff46"
      },
      "execution_count": 13,
      "outputs": [
        {
          "output_type": "execute_result",
          "data": {
            "text/plain": [
              "             Brand         Price         Year  Transmission     Capacity  \\\n",
              "count  8295.000000  8.295000e+03  8295.000000   8295.000000  8295.000000   \n",
              "mean     73.215552  3.600119e+05  2015.389271      1.036046   128.744184   \n",
              "std      48.464683  1.597921e+05     4.502900      0.448213    28.193407   \n",
              "min       0.000000  2.000000e+04  1968.000000      0.000000    50.000000   \n",
              "25%      26.000000  2.380000e+05  2014.000000      1.000000   110.000000   \n",
              "50%      76.000000  3.350000e+05  2017.000000      1.000000   125.000000   \n",
              "75%     115.000000  4.350000e+05  2018.000000      1.000000   150.000000   \n",
              "max     168.000000  1.650000e+06  2022.000000      2.000000   250.000000   \n",
              "\n",
              "            Mileage     USD_Rate   Fuel_Price  Crude_Oil_Price  \n",
              "count  8.295000e+03  8295.000000  8295.000000      8295.000000  \n",
              "mean   3.527300e+04   210.887208   172.131525     16910.996532  \n",
              "std    3.259395e+04    36.045902    52.467703      5565.219752  \n",
              "min    5.000000e+01   199.360000   157.000000     13773.780000  \n",
              "25%    1.985600e+04   199.890000   157.000000     15403.910000  \n",
              "50%    3.000000e+04   201.390000   157.000000     15706.710000  \n",
              "75%    4.500000e+04   201.980000   157.000000     15853.520000  \n",
              "max    1.600000e+06   366.720000   470.000000     40973.127800  "
            ],
            "text/html": [
              "\n",
              "  <div id=\"df-fc9acbb5-d422-4ece-9587-dca4ae89f07b\">\n",
              "    <div class=\"colab-df-container\">\n",
              "      <div>\n",
              "<style scoped>\n",
              "    .dataframe tbody tr th:only-of-type {\n",
              "        vertical-align: middle;\n",
              "    }\n",
              "\n",
              "    .dataframe tbody tr th {\n",
              "        vertical-align: top;\n",
              "    }\n",
              "\n",
              "    .dataframe thead th {\n",
              "        text-align: right;\n",
              "    }\n",
              "</style>\n",
              "<table border=\"1\" class=\"dataframe\">\n",
              "  <thead>\n",
              "    <tr style=\"text-align: right;\">\n",
              "      <th></th>\n",
              "      <th>Brand</th>\n",
              "      <th>Price</th>\n",
              "      <th>Year</th>\n",
              "      <th>Transmission</th>\n",
              "      <th>Capacity</th>\n",
              "      <th>Mileage</th>\n",
              "      <th>USD_Rate</th>\n",
              "      <th>Fuel_Price</th>\n",
              "      <th>Crude_Oil_Price</th>\n",
              "    </tr>\n",
              "  </thead>\n",
              "  <tbody>\n",
              "    <tr>\n",
              "      <th>count</th>\n",
              "      <td>8295.000000</td>\n",
              "      <td>8.295000e+03</td>\n",
              "      <td>8295.000000</td>\n",
              "      <td>8295.000000</td>\n",
              "      <td>8295.000000</td>\n",
              "      <td>8.295000e+03</td>\n",
              "      <td>8295.000000</td>\n",
              "      <td>8295.000000</td>\n",
              "      <td>8295.000000</td>\n",
              "    </tr>\n",
              "    <tr>\n",
              "      <th>mean</th>\n",
              "      <td>73.215552</td>\n",
              "      <td>3.600119e+05</td>\n",
              "      <td>2015.389271</td>\n",
              "      <td>1.036046</td>\n",
              "      <td>128.744184</td>\n",
              "      <td>3.527300e+04</td>\n",
              "      <td>210.887208</td>\n",
              "      <td>172.131525</td>\n",
              "      <td>16910.996532</td>\n",
              "    </tr>\n",
              "    <tr>\n",
              "      <th>std</th>\n",
              "      <td>48.464683</td>\n",
              "      <td>1.597921e+05</td>\n",
              "      <td>4.502900</td>\n",
              "      <td>0.448213</td>\n",
              "      <td>28.193407</td>\n",
              "      <td>3.259395e+04</td>\n",
              "      <td>36.045902</td>\n",
              "      <td>52.467703</td>\n",
              "      <td>5565.219752</td>\n",
              "    </tr>\n",
              "    <tr>\n",
              "      <th>min</th>\n",
              "      <td>0.000000</td>\n",
              "      <td>2.000000e+04</td>\n",
              "      <td>1968.000000</td>\n",
              "      <td>0.000000</td>\n",
              "      <td>50.000000</td>\n",
              "      <td>5.000000e+01</td>\n",
              "      <td>199.360000</td>\n",
              "      <td>157.000000</td>\n",
              "      <td>13773.780000</td>\n",
              "    </tr>\n",
              "    <tr>\n",
              "      <th>25%</th>\n",
              "      <td>26.000000</td>\n",
              "      <td>2.380000e+05</td>\n",
              "      <td>2014.000000</td>\n",
              "      <td>1.000000</td>\n",
              "      <td>110.000000</td>\n",
              "      <td>1.985600e+04</td>\n",
              "      <td>199.890000</td>\n",
              "      <td>157.000000</td>\n",
              "      <td>15403.910000</td>\n",
              "    </tr>\n",
              "    <tr>\n",
              "      <th>50%</th>\n",
              "      <td>76.000000</td>\n",
              "      <td>3.350000e+05</td>\n",
              "      <td>2017.000000</td>\n",
              "      <td>1.000000</td>\n",
              "      <td>125.000000</td>\n",
              "      <td>3.000000e+04</td>\n",
              "      <td>201.390000</td>\n",
              "      <td>157.000000</td>\n",
              "      <td>15706.710000</td>\n",
              "    </tr>\n",
              "    <tr>\n",
              "      <th>75%</th>\n",
              "      <td>115.000000</td>\n",
              "      <td>4.350000e+05</td>\n",
              "      <td>2018.000000</td>\n",
              "      <td>1.000000</td>\n",
              "      <td>150.000000</td>\n",
              "      <td>4.500000e+04</td>\n",
              "      <td>201.980000</td>\n",
              "      <td>157.000000</td>\n",
              "      <td>15853.520000</td>\n",
              "    </tr>\n",
              "    <tr>\n",
              "      <th>max</th>\n",
              "      <td>168.000000</td>\n",
              "      <td>1.650000e+06</td>\n",
              "      <td>2022.000000</td>\n",
              "      <td>2.000000</td>\n",
              "      <td>250.000000</td>\n",
              "      <td>1.600000e+06</td>\n",
              "      <td>366.720000</td>\n",
              "      <td>470.000000</td>\n",
              "      <td>40973.127800</td>\n",
              "    </tr>\n",
              "  </tbody>\n",
              "</table>\n",
              "</div>\n",
              "      <button class=\"colab-df-convert\" onclick=\"convertToInteractive('df-fc9acbb5-d422-4ece-9587-dca4ae89f07b')\"\n",
              "              title=\"Convert this dataframe to an interactive table.\"\n",
              "              style=\"display:none;\">\n",
              "        \n",
              "  <svg xmlns=\"http://www.w3.org/2000/svg\" height=\"24px\"viewBox=\"0 0 24 24\"\n",
              "       width=\"24px\">\n",
              "    <path d=\"M0 0h24v24H0V0z\" fill=\"none\"/>\n",
              "    <path d=\"M18.56 5.44l.94 2.06.94-2.06 2.06-.94-2.06-.94-.94-2.06-.94 2.06-2.06.94zm-11 1L8.5 8.5l.94-2.06 2.06-.94-2.06-.94L8.5 2.5l-.94 2.06-2.06.94zm10 10l.94 2.06.94-2.06 2.06-.94-2.06-.94-.94-2.06-.94 2.06-2.06.94z\"/><path d=\"M17.41 7.96l-1.37-1.37c-.4-.4-.92-.59-1.43-.59-.52 0-1.04.2-1.43.59L10.3 9.45l-7.72 7.72c-.78.78-.78 2.05 0 2.83L4 21.41c.39.39.9.59 1.41.59.51 0 1.02-.2 1.41-.59l7.78-7.78 2.81-2.81c.8-.78.8-2.07 0-2.86zM5.41 20L4 18.59l7.72-7.72 1.47 1.35L5.41 20z\"/>\n",
              "  </svg>\n",
              "      </button>\n",
              "      \n",
              "  <style>\n",
              "    .colab-df-container {\n",
              "      display:flex;\n",
              "      flex-wrap:wrap;\n",
              "      gap: 12px;\n",
              "    }\n",
              "\n",
              "    .colab-df-convert {\n",
              "      background-color: #E8F0FE;\n",
              "      border: none;\n",
              "      border-radius: 50%;\n",
              "      cursor: pointer;\n",
              "      display: none;\n",
              "      fill: #1967D2;\n",
              "      height: 32px;\n",
              "      padding: 0 0 0 0;\n",
              "      width: 32px;\n",
              "    }\n",
              "\n",
              "    .colab-df-convert:hover {\n",
              "      background-color: #E2EBFA;\n",
              "      box-shadow: 0px 1px 2px rgba(60, 64, 67, 0.3), 0px 1px 3px 1px rgba(60, 64, 67, 0.15);\n",
              "      fill: #174EA6;\n",
              "    }\n",
              "\n",
              "    [theme=dark] .colab-df-convert {\n",
              "      background-color: #3B4455;\n",
              "      fill: #D2E3FC;\n",
              "    }\n",
              "\n",
              "    [theme=dark] .colab-df-convert:hover {\n",
              "      background-color: #434B5C;\n",
              "      box-shadow: 0px 1px 3px 1px rgba(0, 0, 0, 0.15);\n",
              "      filter: drop-shadow(0px 1px 2px rgba(0, 0, 0, 0.3));\n",
              "      fill: #FFFFFF;\n",
              "    }\n",
              "  </style>\n",
              "\n",
              "      <script>\n",
              "        const buttonEl =\n",
              "          document.querySelector('#df-fc9acbb5-d422-4ece-9587-dca4ae89f07b button.colab-df-convert');\n",
              "        buttonEl.style.display =\n",
              "          google.colab.kernel.accessAllowed ? 'block' : 'none';\n",
              "\n",
              "        async function convertToInteractive(key) {\n",
              "          const element = document.querySelector('#df-fc9acbb5-d422-4ece-9587-dca4ae89f07b');\n",
              "          const dataTable =\n",
              "            await google.colab.kernel.invokeFunction('convertToInteractive',\n",
              "                                                     [key], {});\n",
              "          if (!dataTable) return;\n",
              "\n",
              "          const docLinkHtml = 'Like what you see? Visit the ' +\n",
              "            '<a target=\"_blank\" href=https://colab.research.google.com/notebooks/data_table.ipynb>data table notebook</a>'\n",
              "            + ' to learn more about interactive tables.';\n",
              "          element.innerHTML = '';\n",
              "          dataTable['output_type'] = 'display_data';\n",
              "          await google.colab.output.renderOutput(dataTable, element);\n",
              "          const docLink = document.createElement('div');\n",
              "          docLink.innerHTML = docLinkHtml;\n",
              "          element.appendChild(docLink);\n",
              "        }\n",
              "      </script>\n",
              "    </div>\n",
              "  </div>\n",
              "  "
            ]
          },
          "metadata": {},
          "execution_count": 13
        }
      ]
    },
    {
      "cell_type": "code",
      "source": [
        "Correlation = bike.corr()"
      ],
      "metadata": {
        "id": "xZ6r26yawaIP"
      },
      "execution_count": 14,
      "outputs": []
    },
    {
      "cell_type": "code",
      "source": [
        "#construting a heatmap to understand the correlation\n",
        "plt.figure(figsize=(10,10))\n",
        "sns.heatmap(Correlation,cbar=True, square=True, fmt='.1f', annot=True, annot_kws={'size':8}, cmap='Blues')"
      ],
      "metadata": {
        "id": "a4eue4A0xM6t",
        "colab": {
          "base_uri": "https://localhost:8080/",
          "height": 633
        },
        "outputId": "336e196d-2514-4830-f306-a0a7a3bf96ac"
      },
      "execution_count": 15,
      "outputs": [
        {
          "output_type": "execute_result",
          "data": {
            "text/plain": [
              "<matplotlib.axes._subplots.AxesSubplot at 0x7f59043e2c90>"
            ]
          },
          "metadata": {},
          "execution_count": 15
        },
        {
          "output_type": "display_data",
          "data": {
            "text/plain": [
              "<Figure size 720x720 with 2 Axes>"
            ],
            "image/png": "[encoded data removed]"
          },
          "metadata": {
            "needs_background": "light"
          }
        }
      ]
    },
    {
      "cell_type": "markdown",
      "source": [
        "spliting the data and target"
      ],
      "metadata": {
        "id": "SYfvLMuFzoXN"
      }
    },
    {
      "cell_type": "code",
      "source": [
        "X = bike.drop(['Price','Published_Date'],axis=1) #features\n",
        "Y = bike['Price'] #label or target"
      ],
      "metadata": {
        "id": "zDSiKqPtjckP"
      },
      "execution_count": 16,
      "outputs": []
    },
    {
      "cell_type": "code",
      "source": [
        "print(X)\n",
        "print(Y)"
      ],
      "metadata": {
        "id": "65sX6B441O87",
        "colab": {
          "base_uri": "https://localhost:8080/"
        },
        "outputId": "8173227f-252e-4e02-ea85-110bb8fbb14d"
      },
      "execution_count": 17,
      "outputs": [
        {
          "output_type": "stream",
          "name": "stdout",
          "text": [
            "      Brand  Year  Transmission  Capacity  Mileage  USD_Rate  Fuel_Price  \\\n",
            "0         0  2010             0     100.0    47000    201.49         157   \n",
            "1         0  2012             0     100.0    60000    201.45         157   \n",
            "2         0  2012             0     100.0    45000    201.98         157   \n",
            "3         0  2009             0     100.0   109000    201.39         157   \n",
            "4         0  2012             0     100.0    21000    200.54         157   \n",
            "...     ...   ...           ...       ...      ...       ...         ...   \n",
            "8290    129  2019             2     150.0    24000    202.06         177   \n",
            "8291    129  2019             2     150.0    30100    202.84         177   \n",
            "8292    129  2019             2     150.0    21456    349.20         420   \n",
            "8293    129  2018             2     150.0    30159    360.14         420   \n",
            "8294    129  2018             2     150.0    31000    354.96         338   \n",
            "\n",
            "      Crude_Oil_Price  \n",
            "0          15403.9100  \n",
            "1          15400.8500  \n",
            "2          15441.3700  \n",
            "3          15811.1300  \n",
            "4          15744.4000  \n",
            "...               ...  \n",
            "8290       16231.4798  \n",
            "8291       16294.1372  \n",
            "8292       39728.4840  \n",
            "8293       40973.1278  \n",
            "8294       38438.6184  \n",
            "\n",
            "[8295 rows x 8 columns]\n",
            "0       160000\n",
            "1       160000\n",
            "2       160000\n",
            "3       160000\n",
            "4       160000\n",
            "         ...  \n",
            "8290    770000\n",
            "8291    775000\n",
            "8292    660000\n",
            "8293    710000\n",
            "8294    695000\n",
            "Name: Price, Length: 8295, dtype: int64\n"
          ]
        }
      ]
    },
    {
      "cell_type": "markdown",
      "source": [
        " Spliting the data into Training data and Test data"
      ],
      "metadata": {
        "id": "MyuWqM7-1fTa"
      }
    },
    {
      "cell_type": "code",
      "source": [
        "X_train, X_test, Y_train, Y_test = train_test_split(X, Y, test_size=0.2, random_state=2)"
      ],
      "metadata": {
        "id": "rRu_DvCz1wqE"
      },
      "execution_count": 18,
      "outputs": []
    },
    {
      "cell_type": "code",
      "source": [
        "print(X.shape, X_train.shape, X_test.shape)"
      ],
      "metadata": {
        "id": "ArPinkQ3kML6",
        "colab": {
          "base_uri": "https://localhost:8080/"
        },
        "outputId": "8645df5c-03c6-44e1-a6e2-63b80ab709d5"
      },
      "execution_count": 19,
      "outputs": [
        {
          "output_type": "stream",
          "name": "stdout",
          "text": [
            "(8295, 8) (6636, 8) (1659, 8)\n"
          ]
        }
      ]
    },
    {
      "cell_type": "markdown",
      "metadata": {
        "id": "1vrCHktWgqfi"
      },
      "source": [
        "Model Training:\n",
        "Random Forest Regressor"
      ]
    },
    {
      "cell_type": "code",
      "source": [
        "#Loading the model\n",
        "regressor = RandomForestRegressor(n_estimators=100)"
      ],
      "metadata": {
        "id": "3FXoZ_sB3SVd"
      },
      "execution_count": 20,
      "outputs": []
    },
    {
      "cell_type": "code",
      "source": [
        "#Training the model with X_train\n",
        "regressor.fit(X_train,Y_train)"
      ],
      "metadata": {
        "id": "-oozZ-yksRzt",
        "colab": {
          "base_uri": "https://localhost:8080/"
        },
        "outputId": "55e553ff-847c-4c0b-b5d9-fa78087841e2"
      },
      "execution_count": 21,
      "outputs": [
        {
          "output_type": "execute_result",
          "data": {
            "text/plain": [
              "RandomForestRegressor()"
            ]
          },
          "metadata": {},
          "execution_count": 21
        }
      ]
    },
    {
      "cell_type": "markdown",
      "metadata": {
        "id": "SHNFVsr4hbG2"
      },
      "source": [
        "Model Evaluation"
      ]
    },
    {
      "cell_type": "code",
      "metadata": {
        "id": "uOLpKKD_hXSl"
      },
      "source": [
        "# prediction on Test Data\n",
        "test_data_prediction = regressor.predict(X_test)"
      ],
      "execution_count": 22,
      "outputs": []
    },
    {
      "cell_type": "code",
      "metadata": {
        "colab": {
          "base_uri": "https://localhost:8080/"
        },
        "id": "WSIqrLNdhnOr",
        "outputId": "6bafdcbd-519f-4351-b890-6db8326f8a4b"
      },
      "source": [
        "print(test_data_prediction)"
      ],
      "execution_count": 23,
      "outputs": [
        {
          "output_type": "stream",
          "name": "stdout",
          "text": [
            "[362200. 565700. 230310. ... 374450. 279030. 180110.]\n"
          ]
        }
      ]
    },
    {
      "cell_type": "code",
      "metadata": {
        "colab": {
          "base_uri": "https://localhost:8080/"
        },
        "id": "fu7A1hhMhqa9",
        "outputId": "950e9c14-bb91-4630-9a98-a0393f7d889b"
      },
      "source": [
        "# R squared error\n",
        "error_score = metrics.r2_score(Y_test, test_data_prediction)\n",
        "print(\"R squared error : \", error_score)"
      ],
      "execution_count": 24,
      "outputs": [
        {
          "output_type": "stream",
          "name": "stdout",
          "text": [
            "R squared error :  0.7438899451246326\n"
          ]
        }
      ]
    },
    {
      "cell_type": "markdown",
      "metadata": {
        "id": "f1fiqOMkiZNL"
      },
      "source": [
        "Compare the Actual Values and Predicted Values in a Plot"
      ]
    },
    {
      "cell_type": "code",
      "metadata": {
        "id": "QoC4g_tBiE4A"
      },
      "source": [
        "Y_test = list(Y_test)"
      ],
      "execution_count": 25,
      "outputs": []
    },
    {
      "cell_type": "code",
      "metadata": {
        "colab": {
          "base_uri": "https://localhost:8080/",
          "height": 295
        },
        "id": "sMSVMVtFijxo",
        "outputId": "71b511ae-6aaf-44c5-c621-5ad3bbf50201"
      },
      "source": [
        "plt.plot(Y_test, color='blue', label = 'Actual Value')\n",
        "plt.plot(test_data_prediction, color='green', label='Predicted Value')\n",
        "plt.title('Actual Price vs Predicted Price')\n",
        "plt.xlabel('Number of values')\n",
        "plt.ylabel('Bike Price')\n",
        "plt.legend()\n",
        "plt.show()"
      ],
      "execution_count": 26,
      "outputs": [
        {
          "output_type": "display_data",
          "data": {
            "text/plain": [
              "<Figure size 432x288 with 1 Axes>"
            ],
            "image/png": "[encoded data removed]"
          },
          "metadata": {
            "needs_background": "light"
          }
        }
      ]
    },
    {
      "cell_type": "code",
      "source": [
        "import pickle"
      ],
      "metadata": {
        "id": "4ZbDzozXIE2v"
      },
      "execution_count": 27,
      "outputs": []
    },
    {
      "cell_type": "code",
      "source": [
        "pickle.dump(regressor, open('/content/Random.pkl', 'wb'))"
      ],
      "metadata": {
        "id": "E2avl6lmQ-kd"
      },
      "execution_count": 29,
      "outputs": []
    }
  ]
}